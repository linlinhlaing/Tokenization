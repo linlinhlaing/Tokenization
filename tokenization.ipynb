{
  "nbformat": 4,
  "nbformat_minor": 0,
  "metadata": {
    "colab": {
      "provenance": []
    },
    "kernelspec": {
      "name": "python3",
      "display_name": "Python 3"
    },
    "language_info": {
      "name": "python"
    }
  },
  "cells": [
    {
      "cell_type": "code",
      "execution_count": 4,
      "metadata": {
        "colab": {
          "base_uri": "https://localhost:8080/"
        },
        "id": "kGKo2pBOOyek",
        "outputId": "44a182a1-ce20-450d-c87b-8610820bf66b"
      },
      "outputs": [
        {
          "output_type": "stream",
          "name": "stdout",
          "text": [
            "found\n"
          ]
        }
      ],
      "source": [
        "import re\n",
        "input = \"သရက်သီးစားချင်တယ်\"\n",
        "result = re.search(r\"သရက်သီး\",input)\n",
        "if result:\n",
        "  print(\"found\")\n",
        "else:\n",
        "  print(\"not found\")"
      ]
    },
    {
      "cell_type": "code",
      "source": [
        "import re\n",
        "input = \"မာလာရှမ်းကောစားချင်တယ်\"\n",
        "result = re.search(r\"^မာလာရှမ်း.*တယ်$\",input)\n",
        "if result:\n",
        "  print(\"found\")\n",
        "else:\n",
        "  print(\"not found\")"
      ],
      "metadata": {
        "colab": {
          "base_uri": "https://localhost:8080/"
        },
        "id": "WbC60ynAPMuD",
        "outputId": "f464775f-c661-4244-9a9c-829d1c513d05"
      },
      "execution_count": 6,
      "outputs": [
        {
          "output_type": "stream",
          "name": "stdout",
          "text": [
            "found\n"
          ]
        }
      ]
    },
    {
      "cell_type": "code",
      "source": [
        "import re\n",
        "re.sub(r'durian','mango','I want to eat durian')"
      ],
      "metadata": {
        "colab": {
          "base_uri": "https://localhost:8080/",
          "height": 35
        },
        "id": "SIY5QakFSFRd",
        "outputId": "ed41621c-d5ab-43ad-c041-ad31b39a69bd"
      },
      "execution_count": null,
      "outputs": [
        {
          "output_type": "execute_result",
          "data": {
            "text/plain": [
              "'I want to eat mango'"
            ],
            "application/vnd.google.colaboratory.intrinsic+json": {
              "type": "string"
            }
          },
          "metadata": {},
          "execution_count": 15
        }
      ]
    },
    {
      "cell_type": "code",
      "source": [
        "# character-tokenization\n",
        "input_text = \"အမုန်းမပွားရဘူးနော်\"\n",
        "result = ' '.join(input_text)\n",
        "print(\"Output:\",result)\n"
      ],
      "metadata": {
        "colab": {
          "base_uri": "https://localhost:8080/"
        },
        "id": "tWocSfQsLmr4",
        "outputId": "60bebdd1-bc39-4761-ad94-c5bf5d5446da"
      },
      "execution_count": null,
      "outputs": [
        {
          "output_type": "stream",
          "name": "stdout",
          "text": [
            "Output: အ မ ု န ် း မ ပ ွ ာ း ရ ဘ ူ း န ေ ာ ်\n"
          ]
        }
      ]
    },
    {
      "cell_type": "code",
      "source": [
        "# syllable-tokenization\n",
        "import re\n",
        "# input_text = \"ဒူးရင်းသီးစားပီးအမုန်းမပွားရဘူးနော်\"\n",
        "input_text = \"သီဟိုဠ်မှ ဉာဏ်ကြီးရှင်သည် အာယုဝဍ္ဎနဆေးညွှန်းစာကို ဇလွန်ဈေးဘေး ဗာဒံပင်ထက် အဓိဋ္ဌာန်လျက် ဂဃနဏဖတ်ခဲ့သည်\"\n",
        "# input_text = \"အဓိဋ္ဌာန်\"\n",
        "word_pattern = r'\\w'\n",
        "non_word_pattern = r'\\W'\n",
        "result = []\n",
        "for index in range(len(input_text)):\n",
        "    char = input_text[index]\n",
        "    if re.findall(word_pattern,char):\n",
        "        result.append(char)\n",
        "    if ord(char) == 4154 and re.findall(word_pattern,input_text[index-1]):\n",
        "        result[-1] = result[-2]+result[-1]+char\n",
        "        del result[len(result)-2]\n",
        "    if re.findall(non_word_pattern,char):\n",
        "        result[-1] = result[-1]+char\n",
        "\n",
        "\n",
        "# print(\"result \",result)\n",
        "print(\"Output:\",\" \".join(result))"
      ],
      "metadata": {
        "colab": {
          "base_uri": "https://localhost:8080/"
        },
        "id": "REoAAJavMH6f",
        "outputId": "578082e1-65c1-47ed-ab8b-7cd6a241affb"
      },
      "execution_count": null,
      "outputs": [
        {
          "output_type": "stream",
          "name": "stdout",
          "text": [
            "Output: သီ ဟိုဠ်် မှ  ဉာဏ်် ကြီး ရှင်် သည််  အာ ယု ဝ ဍ္ ဎ န ဆေး ညွှန််း စာ ကို  ဇ လွန်် ဈေး ဘေး  ဗာ ဒံ ပင်် ထက််  အ ဓိ ဋ္ ဌာန်် လျက််  ဂ ဃ န ဏ ဖတ်် ခဲ့ သည််\n"
          ]
        }
      ]
    },
    {
      "cell_type": "code",
      "source": [
        "# semi syllable-tokenization\n",
        "import re\n",
        "input_text = \"အားလုံးပဲ စိတ်ချမ်းသာ ကိုယ်ကျန်းမာကြပါစေ\"\n",
        "word_pattern = r'\\w'\n",
        "non_word_pattern = r'\\W'\n",
        "result = []\n",
        "for index in range(len(input_text)):\n",
        "  char = input_text[index]\n",
        "  if re.findall(word_pattern,char):\n",
        "    result.append(char)\n",
        "  if re.findall(non_word_pattern,char):\n",
        "    result[-1] = result[-1]+char\n",
        "print(\"Ouput:\",\" \".join(result))\n"
      ],
      "metadata": {
        "id": "bdGnHXHXV5FP",
        "colab": {
          "base_uri": "https://localhost:8080/"
        },
        "outputId": "20d1cd0e-49b0-476b-ab55-992cffc46673"
      },
      "execution_count": null,
      "outputs": [
        {
          "output_type": "stream",
          "name": "stdout",
          "text": [
            "Ouput: အား လုံး ပဲ  စိ တ် ချ မ်း သာ  ကို ယ် ကျ န်း မာ ကြ ပါ စေ\n"
          ]
        }
      ]
    },
    {
      "cell_type": "code",
      "source": [
        "# text = \"ျမန္မာႏိုင္ငံ တရားဝင္အားျဖင့္ ျပည္ေထာင္စု \"\n",
        "text = \"ျမန္မာႏိုင္ငံ\"\n",
        "pattern = r\".\"\n",
        "result = ['']\n",
        "for index in range(len(text)):\n",
        "    char = text[index]\n",
        "    if re.findall(pattern,char):\n",
        "        result[-1] = result[-1]+ char+\" \"\n",
        "\n",
        "    if ord(char) == 4153:\n",
        "        result.append(text[index+1].strip())\n",
        "        del result[len(result)-1]\n",
        "\n",
        "print(\" \".join((result)))\n",
        "print(\" \".join(text))\n",
        "print(result)\n",
        "# print(ord(\"္\"))\n",
        "# print(text)"
      ],
      "metadata": {
        "colab": {
          "base_uri": "https://localhost:8080/"
        },
        "id": "p_erK11fNyBJ",
        "outputId": "23bfd242-4ff6-4c48-c059-d275bc2810a0"
      },
      "execution_count": null,
      "outputs": [
        {
          "output_type": "stream",
          "name": "stdout",
          "text": [
            "ျ မ န ္ မ ာ ႏ ိ ု င ္ င ံ \n",
            "ျ မ န ္ မ ာ ႏ ိ ု င ္ င ံ\n",
            "['ျ မ န ္ မ ာ ႏ ိ ု င ္ င ံ ']\n"
          ]
        }
      ]
    },
    {
      "cell_type": "code",
      "source": [
        "text = \"ျမန္မာႏိုင္ငံ\"\n"
      ],
      "metadata": {
        "id": "iSiW5MmFN02H"
      },
      "execution_count": null,
      "outputs": []
    },
    {
      "cell_type": "code",
      "source": [
        "#syllable-tokenization\n",
        "import re\n",
        "input_text = \"အမုန်းမပွားရဘူးနော်\"\n",
        "pattern = r\"([က-အ]([က-အ]်|[ါ-ှ]*)*)\"\n",
        "re.sub(pattern,r'\\1 ',input_text)"
      ],
      "metadata": {
        "colab": {
          "base_uri": "https://localhost:8080/",
          "height": 35
        },
        "id": "TBvo-M-196xO",
        "outputId": "aecf8422-e2f6-4b6a-d829-6e7ead10b813"
      },
      "execution_count": null,
      "outputs": [
        {
          "output_type": "execute_result",
          "data": {
            "text/plain": [
              "'အ မုန်း မ ပွား ရ ဘူး နော် '"
            ],
            "application/vnd.google.colaboratory.intrinsic+json": {
              "type": "string"
            }
          },
          "metadata": {},
          "execution_count": 8
        }
      ]
    },
    {
      "cell_type": "code",
      "source": [
        "#semi syllable-tokenization\n",
        "import re\n",
        "input_text = \"အမုန်းမပွားရဘူးနော်\"\n",
        "pattern = r\"([က-အ][ါ-ှ]*)\"\n",
        "re.sub(pattern,r'\\1 ',input_text)"
      ],
      "metadata": {
        "colab": {
          "base_uri": "https://localhost:8080/",
          "height": 35
        },
        "outputId": "1f748630-17ea-4be7-f95a-de3f3243a2a5",
        "id": "H1pRixloGqWe"
      },
      "execution_count": null,
      "outputs": [
        {
          "output_type": "execute_result",
          "data": {
            "text/plain": [
              "'အ မု န်း မ ပွား ရ ဘူး နော် '"
            ],
            "application/vnd.google.colaboratory.intrinsic+json": {
              "type": "string"
            }
          },
          "metadata": {},
          "execution_count": 37
        }
      ]
    },
    {
      "cell_type": "code",
      "source": [
        "#semi syllable-tokenization (sinhala)\n",
        "import re\n",
        "input_text = \"වෛරය පතුරවන්න එපා\"\n",
        "pattern = r\"([අ-ඖක-රල-ෆ][඀-඄඗-඙඲඼඾඿෇-෿]*)\"\n",
        "re.sub(pattern,r'\\1 ',input_text)"
      ],
      "metadata": {
        "colab": {
          "base_uri": "https://localhost:8080/",
          "height": 35
        },
        "id": "nwE_waFpHX-y",
        "outputId": "00a933ac-d682-473e-f49e-de907fc794ae"
      },
      "execution_count": null,
      "outputs": [
        {
          "output_type": "execute_result",
          "data": {
            "text/plain": [
              "'වෛ ර ය  ප තු ර ව න් න  එ පා '"
            ],
            "application/vnd.google.colaboratory.intrinsic+json": {
              "type": "string"
            }
          },
          "metadata": {},
          "execution_count": 38
        }
      ]
    },
    {
      "cell_type": "code",
      "source": [
        "#semi syllable-tokenization (tamil)\n",
        "import re\n",
        "input_text = \"வெறுப்பை பரப்ப வேண்டாம்\"\n",
        "pattern = r\"([அ-ஊஎ-ஐஒ-கஙசஜஞடணதந-பம-ஹ௤-௺][஀-஄஋-஍஑஖-஘஛஝஠-஢஥-஧஫-஭஺-௣௻-௿]*)\"\n",
        "re.sub(pattern,r'\\1 ',input_text)"
      ],
      "metadata": {
        "id": "TGP5ke6-JUi2",
        "outputId": "4ff93059-4d34-4632-f8b2-090851004430",
        "colab": {
          "base_uri": "https://localhost:8080/",
          "height": 35
        }
      },
      "execution_count": null,
      "outputs": [
        {
          "output_type": "execute_result",
          "data": {
            "text/plain": [
              "'வெ று ப் பை  ப ர ப் ப  வே ண் டா ம் '"
            ],
            "application/vnd.google.colaboratory.intrinsic+json": {
              "type": "string"
            }
          },
          "metadata": {},
          "execution_count": 65
        }
      ]
    },
    {
      "cell_type": "code",
      "source": [
        "import re\n",
        "# syllable_tokenization_zawgyi\n",
        "input_text = \"ျမန္မာႏိုင္ငံ၊ (အဂၤလိပ္: Myanmar သို႔မဟုတ္ Burma (ဘားမား)) တရားဝင္အားျဖင့္ ျပည္ေထာင္စု သမၼတ ျမန္မာႏိုင္ငံေတာ္ (Republic of the Union of Myanmar) သည္ အေရွ႕ေတာင္အာရွရွိ ႏိုင္ငံတစ္ႏိုင္ငံျဖစ္သည္။ အေရွ႕ေတာင္အာရွ ကြၽန္းဆြယ္ေဒသတြင္ အႀကီးဆုံးႏိုင္ငံျဖစ္ၿပီး ၂၀၁၈ ခုႏွစ္အရ လူဦးေရ ၅၄ သန္းခန႔္ရွိသည္။[၅] ဘဂၤလားေဒ့ရွ္၊ အိႏၵိယ၊ တ႐ုတ္ျပည္သူ႔သမၼတႏိုင္ငံ၊ လာအို၊ ထိုင္းႏိုင္ငံ၊ ကပၸလီပင္လယ္ႏွင့္ ဘဂၤလားပင္လယ္ေအာ္တို႔ႏွင့္ ထိစပ္ေနသည္။ ျမန္မာႏိုင္ငံ၏ ၿမိဳ႕ေတာ္မွာ ေနျပည္ေတာ္ျဖစ္ၿပီး အႀကီးဆုံးၿမိဳ႕မွာ ရန္ကုန္ျဖစ္သည္။[၁]ျမန္မာႏိုင္ငံရွိ အေစာဆုံးအေျခခ်မႈမ်ားသည္ ပ်ဴၿမိဳ႕ျပႏိုင္ငံမ်ားႏွင့္ မြန္ဘုရင့္ႏိုင္ငံမ်ား၌ျဖစ္ၾကသည္။[၉] ေအဒီ ၉ရာစုခန႔္တြင္ ျမန္မာလူမ်ိဳးတို႔သည္ ဧရာဝတီျမစ္အနီး၌ ပုဂံျပည္ကိုတည္ေထာင္ခဲ့ၾကၿပီး ျမန္မာ့ယဥ္ေက်းမႈ၊ ျမန္မာဘာသာစကားစသည္တို႔ ေပၚေပါက္လာခဲ့သည္။ ပထမျမန္မာႏိုင္ငံေတာ္ ပုဂံျပည္သည္ မြန္ဂိုက်ဴးေက်ာ္စစ္ေၾကာင့္ က်ဆုံးခဲ့ရသည္။ ၁၆ ရာစု‌တြင္ ဒုတိယျမန္မာႏိုင္ငံေတာ္ ေတာင္ငူအင္ပါယာေပၚေပါက္လာခဲ့ၿပီး အေရွ႕ေတာင္အာရွသမိုင္း၏ အႀကီးဆုံးအင္ပါယာအျဖစ္ ေခတၱရပ္တည္ႏိုင္ခဲ့သည္။[၁၀] ၁၉ ရာစုတြင္ တတိယျမန္မာႏိုင္ငံေတာ္ ကုန္းေဘာင္အင္ပါယာသည္ မ်က္ေမွာက္ေခတ္ ျမန္မာႏိုင္ငံ၏ေဒသမ်ားကိုပါမက အာသံႏွင့္ မဏိပူရေဒသမ်ားကိုပါ အုပ္ခ်ဳပ္ႏိုင္ခဲ့သည္။ ၿဗိတိသွ်အင္ပါယာသည္ ျမန္မာႏိုင္ငံကို က်ဴးေက်ာ္စစ္မ်ားဆင္ႏႊဲၿပီး သိမ္းပိုက္ခဲ့သည္။ ဒုတိယကမာၻစစ္အတြင္း၌ ျမန္မာႏိုင္ငံကို ဂ်ပန္တို႔ကေခတၱသိမ္းပိုက္ထားခဲ့ၿပီး မဟာမိတ္ႏိုင္ငံတို႔က ျပန္လည္သိမ္းယူခဲ့သည္။ ၁၉၄၈ ခုႏွစ္တြင္ ျမန္မာႏိုင္ငံသည္ ၿဗိတိသွ်တို႔ထံမွ လြတ္လပ္ေရးကိုရရွိခဲ့သည္။ျမန္မာႏိုင္ငံသည္ အေရွ႕အာရွ ထိပ္သီးအစည္းအေဝး၊ ဘက္မလိုက္လႈပ္ရွားမႈ၊ အာဆီယံ၊ ဘင္းမ္စတက္စသည္တို႔၏ အဖြဲ႕ဝင္ႏိုင္ငံျဖစ္သည္။ ၿဗိတိသွ်အင္ပါယာလက္ေအာက္သို႔ က်ေရာက္ခဲ့ဖူးေသာ္လည္း ဓနသဟာယႏိုင္ငံမ်ား၏ အဖြဲ႕ဝင္ႏိုင္ငံမဟုတ္ေပ။ သဘာဝသံယံဇာတႂကြယ္ဝေသာ ႏိုင္ငံျဖစ္သည္သာမက ေနေရာင္ျခည္စြမ္းအင္အသုံးခ်ရန္အတြက္ အလားအလာေကာင္းမြန္သည္။[၁၁] ႏိုင္ငံ၏စီးပြားေရးအမ်ားစုကို ျမန္မာစစ္တပ္ႏွင့္ ၎၏ခ႐ိုနီမ်ားကခ်ဳပ္ကိုင္ထားသျဖင့္ စီးပြားေရးမညီမမွ်မႈမ်ားျပားသည္။[၁၂]\"\n",
        "# ျမန္ မာ ႏိုင္ ငံ\n",
        "pattern = r\"(([ါ-ှ][က-အ]*္)|[က-အ][ါ-ှ]*)\"\n",
        "re.sub(pattern,r'\\1 ',input_text)"
      ],
      "metadata": {
        "colab": {
          "base_uri": "https://localhost:8080/",
          "height": 125
        },
        "id": "iDKsbmeHQp9G",
        "outputId": "0523ee61-1582-4e6b-993f-8090d7a8f980"
      },
      "execution_count": null,
      "outputs": [
        {
          "output_type": "execute_result",
          "data": {
            "text/plain": [
              "'ျမန္ မာ ႏိုင္ ငံ ၊ (အ ဂ ၤလိ ပ္ : Myanmar သို ႔မ ဟု တ္  Burma (ဘား မား )) တ ရား ဝ င္ အားျ ဖ င့္  ျပည္ ေထာ င္ စု  သ မ ၼတ  ျမန္ မာ ႏိုင္ ငံေ တာ္  (Republic of the Union of Myanmar) သ ည္  အေ ရွ ႕ေတာ င္ အာ ရွ ရွိ  ႏိုင္ ငံ တ စ္ ႏိုင္ ငံျ ဖ စ္ သ ည္ ။ အေ ရွ ႕ေတာ င္ အာ ရွ  ကြ ၽန္း ဆြ ယ္ေ ဒ သ တြ င္  အ ႀကီး ဆုံး ႏိုင္ ငံျ ဖ စ္ ၿပီး  ၂၀၁၈ ခု ႏွစ္ အ ရ  လူ ဦးေရ  ၅၄ သ န္း ခ န ႔္ရွိ သ ည္ ။[၅] ဘ ဂ ၤလားေ ဒ့ ရွ္ ၊ အိ ႏၵိယ ၊ တ ႐ုတ္ ျပည္ သူ ႔သ မ ၼတ ႏိုင္ ငံ ၊ လာ အို ၊ ထို င္း ႏိုင္ ငံ ၊ က ပ ၸလီ ပ င္ လ ယ္ ႏွင့္  ဘ ဂ ၤလား ပ င္ လ ယ္ေ အာ္ တို ႔ႏွင့္  ထိ စ ပ္ေ န သ ည္ ။ ျမန္ မာ ႏိုင္ ငံ ၏ ၿမိဳ ႕ေတာ္ မွာ  ေနျ ပ ည္ေ တာ္ျ ဖ စ္ ၿပီး  အ ႀကီး ဆုံး ၿမိဳ ႕မွာ  ရ န္ ကု န္ျ ဖ စ္ သ ည္ ။[၁]ျမန္ မာ ႏိုင္ ငံ ရွိ  အေ စာ ဆုံး အေျ ခ ခ် မ ႈမ်ား သ ည္  ပ်ဴ ၿမိဳ ႕ျပ ႏိုင္ ငံ မ်ား ႏွင့္  မြ န္ ဘု ရ င့္ ႏိုင္ ငံ မ်ား ၌ျဖစ္ ၾက သ ည္ ။[၉] ေအ ဒီ  ၉ရာ စု ခ န ႔္တြ င္  ျမန္ မာ လူ မ်ိဳး တို ႔သ ည္  ဧရာ ဝ တီျ မ စ္ အ နီး ၌ ပု ဂံျ ပ ည္ ကို တ ည္ေ ထာ င္ ခဲ့ ၾက ၿပီး  ျမန္ မာ့ ယ ဥ္ေက်း မ ႈ၊ ျမန္ မာ ဘာ သာ စ ကား စ သ ည္ တို ႔ ေပ ၚေပါ က္ လာ ခဲ့ သ ည္ ။ ပ ထ မျ မ န္ မာ ႏိုင္ ငံေ တာ္  ပု ဂံျ ပ ည္ သ ည္  မြ န္ ဂို က်ဴးေ က်ာ္ စ စ္ေ ၾကာ င့္  က် ဆုံး ခဲ့ ရ သ ည္ ။ ၁၆ ရာ စု \\u200cတြ င္  ဒု တိ ယျ မ န္ မာ ႏိုင္ ငံေ တာ္  ေတာ င္ ငူ အ င္ ပါ ယာေ ပ ၚေပါ က္ လာ ခဲ့ ၿပီး  အေ ရွ ႕ေတာ င္ အာ ရွ သ မို င္း ၏ အ ႀကီး ဆုံး အ င္ ပါ ယာ အျ ဖ စ္  ေခ တ ၱရ ပ္ တ ည္ ႏိုင္ ခဲ့ သ ည္ ။[၁၀] ၁၉ ရာ စု တြ င္  တ တိ ယျ မ န္ မာ ႏိုင္ ငံေ တာ္  ကု န္းေ ဘာ င္ အ င္ ပါ ယာ သ ည္  မ် က္ေ မွာ က္ေ ခ တ္  ျမန္ မာ ႏိုင္ ငံ ၏ေဒ သ မ်ား ကို ပါ မ က  အာ သံ ႏွင့္  မ ဏိ ပူ ရေ ဒ သ မ်ား ကို ပါ  အု ပ္ ခ်ဳ ပ္ ႏိုင္ ခဲ့ သ ည္ ။ ၿဗိ တိ သွ် အ င္ ပါ ယာ သ ည္  ျမန္ မာ ႏိုင္ ငံ ကို  က်ဴးေ က်ာ္ စ စ္ မ်ား ဆ င္ ႏႊဲၿပီး  သိ မ္း ပို က္ ခဲ့ သ ည္ ။ ဒု တိ ယ က မာ ၻစ စ္ အ တြ င္း ၌ ျမန္ မာ ႏိုင္ ငံ ကို  ဂ် ပ န္ တို ႔ကေ ခ တ ၱသိ မ္း ပို က္ ထား ခဲ့ ၿပီး  မ ဟာ မိ တ္ ႏိုင္ ငံ တို ႔က  ျပန္ လ ည္ သိ မ္း ယူ ခဲ့ သ ည္ ။ ၁၉၄၈ ခု ႏွစ္ တြ င္  ျမန္ မာ ႏိုင္ ငံ သ ည္  ၿဗိ တိ သွ် တို ႔ထံ မွ  လြ တ္ လ ပ္ေ ရး ကို ရ ရွိ ခဲ့ သ ည္ ။ျမန္ မာ ႏိုင္ ငံ သ ည္  အေ ရွ ႕အာ ရွ  ထိ ပ္ သီး အ စ ည္း အေ ဝး ၊ ဘ က္ မ လို က္ လ ႈပ္ ရွား မ ႈ၊ အာ ဆီ ယံ ၊ ဘ င္း မ္ စ တ က္ စ သ ည္ တို ႔၏ အ ဖြဲ ႕ဝ င္ ႏိုင္ ငံျ ဖ စ္ သ ည္ ။ ၿဗိ တိ သွ် အ င္ ပါ ယာ လ က္ေ အာ က္ သို ႔ က်ေ ရာ က္ ခဲ့ ဖူးေ သာ္ လ ည္း  ဓ န သ ဟာ ယ ႏိုင္ ငံ မ်ား ၏ အ ဖြဲ ႕ဝ င္ ႏိုင္ ငံ မ ဟု တ္ေ ပ ။ သ ဘာ ဝ သံ ယံ ဇာ တ ႂကြ ယ္ ဝေ သာ  ႏိုင္ ငံျ ဖ စ္ သ ည္ သာ မ က  ေနေ ရာ င္ျ ခ ည္ စြ မ္း အ င္ အ သုံး ခ် ရ န္ အ တြ က္  အ လား အ လာေ ကာ င္း မြ န္ သ ည္ ။[၁၁] ႏိုင္ ငံ ၏စီး ပြားေ ရး အ မ်ား စု ကို  ျမန္ မာ စ စ္ တ ပ္ ႏွင့္  ၎၏ခ ႐ိုနီ မ်ား က ခ်ဳ ပ္ ကို င္ ထား သျ ဖ င့္  စီး ပြားေ ရး မ ညီ မ မွ် မ ႈမ်ားျ ပား သ ည္ ။[၁၂]'"
            ],
            "application/vnd.google.colaboratory.intrinsic+json": {
              "type": "string"
            }
          },
          "metadata": {},
          "execution_count": 1
        }
      ]
    },
    {
      "cell_type": "code",
      "source": [
        "# Keywords Detection\n",
        "import re\n",
        "input_text = \"တောင်းစုတ် ပလုံးစုတ်သာ ပစ်ရိုးထုံးစံ ရှိသည်။ သားဆိုးသမီးဆိုးကို ပစ်ရိုးထုံးစံမရှိ။ Discard only bad baskets and punnets, not bad sons and daughters.\"\n",
        "pattern_text = \"တောင်းစုတ်|||ပလုံးစုတ်|||punnets|||discard\"\n",
        "pattern_text_array = pattern_text.split(\"|||\")\n",
        "word_pattern = \"\"\n",
        "for i in pattern_text_array:\n",
        "  word_pattern = word_pattern+i+\"|\"\n",
        "word_pattern = word_pattern[:-1]\n",
        "pattern = r\"\\b{}\\b\".format(word_pattern)\n",
        "print(pattern)\n",
        "re.findall(pattern,input_text)\n",
        "# pattern1= r\"တောင်းစုတ်|ပလုံးစုတ်|punnets|discard\"\n",
        "# print(pattern1)\n",
        "# re.findall(r\"တောင်းစုတ်|ပလုံးစုတ်|punnets|discard\",input_text)"
      ],
      "metadata": {
        "id": "U03GnASXLvah",
        "outputId": "6dcd820a-12ac-4fee-9997-80910443eed6",
        "colab": {
          "base_uri": "https://localhost:8080/"
        }
      },
      "execution_count": null,
      "outputs": [
        {
          "output_type": "stream",
          "name": "stdout",
          "text": [
            "\\bတောင်းစုတ်|ပလုံးစုတ်|punnets|discard\\b\n"
          ]
        },
        {
          "output_type": "execute_result",
          "data": {
            "text/plain": [
              "['တောင်းစုတ်', 'ပလုံးစုတ်', 'punnets']"
            ]
          },
          "metadata": {},
          "execution_count": 2
        }
      ]
    },
    {
      "cell_type": "code",
      "source": [
        "# Burmese 2 Braille (Mu Haung)\n",
        "import re\n",
        "# input_text = \"မသန်ပေမယ့်စွမ်းသည်\"\n",
        "input_text = \"ပေ\"\n",
        "# မသအန်ပအေမအယ့်စွအမ်းသအည်\n",
        "# pattern = r'([က-အ]|([က-အ]([ါ-ှ])*)|ေ[က-အ])'\n",
        "pattern = r'([က-အ]([ါ-ှ])*)'\n",
        "re.sub(pattern,r'\\1အ',input_text)"
      ],
      "metadata": {
        "id": "4d59hADJLyhx",
        "colab": {
          "base_uri": "https://localhost:8080/",
          "height": 35
        },
        "outputId": "70555751-af3b-4c55-93cc-3207210e59e0"
      },
      "execution_count": 1,
      "outputs": [
        {
          "output_type": "execute_result",
          "data": {
            "text/plain": [
              "'ပေအ'"
            ],
            "application/vnd.google.colaboratory.intrinsic+json": {
              "type": "string"
            }
          },
          "metadata": {},
          "execution_count": 1
        }
      ]
    }
  ]
}